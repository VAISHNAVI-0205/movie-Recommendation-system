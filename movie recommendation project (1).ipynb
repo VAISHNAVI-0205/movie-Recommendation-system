{
 "cells": [
  {
   "cell_type": "code",
   "execution_count": 1,
   "id": "c4467ae9-cd15-468b-b37b-c0f7b0643e32",
   "metadata": {},
   "outputs": [],
   "source": [
    "import pandas as pd\n",
    "from sklearn.feature_extraction.text import TfidfVectorizer\n",
    "from sklearn.metrics.pairwise import cosine_similarity\n",
    "import matplotlib.pyplot as plt\n"
   ]
  },
  {
   "cell_type": "code",
   "execution_count": 2,
   "id": "50cd9e0f-70c1-4eb8-9b4c-601bf4440821",
   "metadata": {},
   "outputs": [
    {
     "data": {
      "text/html": [
       "<div>\n",
       "<style scoped>\n",
       "    .dataframe tbody tr th:only-of-type {\n",
       "        vertical-align: middle;\n",
       "    }\n",
       "\n",
       "    .dataframe tbody tr th {\n",
       "        vertical-align: top;\n",
       "    }\n",
       "\n",
       "    .dataframe thead th {\n",
       "        text-align: right;\n",
       "    }\n",
       "</style>\n",
       "<table border=\"1\" class=\"dataframe\">\n",
       "  <thead>\n",
       "    <tr style=\"text-align: right;\">\n",
       "      <th></th>\n",
       "      <th>movie_id</th>\n",
       "      <th>title</th>\n",
       "      <th>genre</th>\n",
       "      <th>description</th>\n",
       "    </tr>\n",
       "  </thead>\n",
       "  <tbody>\n",
       "    <tr>\n",
       "      <th>0</th>\n",
       "      <td>1</td>\n",
       "      <td>Sabdham</td>\n",
       "      <td>Horror Thriller</td>\n",
       "      <td>A chilling horror thriller with gripping sound...</td>\n",
       "    </tr>\n",
       "    <tr>\n",
       "      <th>1</th>\n",
       "      <td>2</td>\n",
       "      <td>Kudumbasthan</td>\n",
       "      <td>Comedy Drama</td>\n",
       "      <td>A family comedy drama filled with emotions and...</td>\n",
       "    </tr>\n",
       "    <tr>\n",
       "      <th>2</th>\n",
       "      <td>3</td>\n",
       "      <td>Kadhalikka Neramillai</td>\n",
       "      <td>Romantic Comedy</td>\n",
       "      <td>A light-hearted romantic comedy released for P...</td>\n",
       "    </tr>\n",
       "    <tr>\n",
       "      <th>3</th>\n",
       "      <td>4</td>\n",
       "      <td>Madraskaaran</td>\n",
       "      <td>Drama</td>\n",
       "      <td>A drama film set in Chennai, with music by AR ...</td>\n",
       "    </tr>\n",
       "    <tr>\n",
       "      <th>4</th>\n",
       "      <td>5</td>\n",
       "      <td>Sweetheart!</td>\n",
       "      <td>Romantic Comedy</td>\n",
       "      <td>A sweet romantic comedy starring Rio Raj and G...</td>\n",
       "    </tr>\n",
       "    <tr>\n",
       "      <th>5</th>\n",
       "      <td>6</td>\n",
       "      <td>Dragon</td>\n",
       "      <td>Comedy Drama</td>\n",
       "      <td>A coming-of-age comedy drama with Pradeep Rang...</td>\n",
       "    </tr>\n",
       "  </tbody>\n",
       "</table>\n",
       "</div>"
      ],
      "text/plain": [
       "   movie_id                  title            genre  \\\n",
       "0         1                Sabdham  Horror Thriller   \n",
       "1         2           Kudumbasthan     Comedy Drama   \n",
       "2         3  Kadhalikka Neramillai  Romantic Comedy   \n",
       "3         4           Madraskaaran            Drama   \n",
       "4         5            Sweetheart!  Romantic Comedy   \n",
       "5         6                 Dragon     Comedy Drama   \n",
       "\n",
       "                                         description  \n",
       "0  A chilling horror thriller with gripping sound...  \n",
       "1  A family comedy drama filled with emotions and...  \n",
       "2  A light-hearted romantic comedy released for P...  \n",
       "3  A drama film set in Chennai, with music by AR ...  \n",
       "4  A sweet romantic comedy starring Rio Raj and G...  \n",
       "5  A coming-of-age comedy drama with Pradeep Rang...  "
      ]
     },
     "execution_count": 2,
     "metadata": {},
     "output_type": "execute_result"
    }
   ],
   "source": [
    "movies = pd.DataFrame([\n",
    "    {\"movie_id\": 1, \"title\": \"Sabdham\", \"genre\": \"Horror Thriller\", \n",
    "     \"description\": \"A chilling horror thriller with gripping sound design.\"},\n",
    "    {\"movie_id\": 2, \"title\": \"Kudumbasthan\", \"genre\": \"Comedy Drama\", \n",
    "     \"description\": \"A family comedy drama filled with emotions and laughter.\"},\n",
    "    {\"movie_id\": 3, \"title\": \"Kadhalikka Neramillai\", \"genre\": \"Romantic Comedy\", \n",
    "     \"description\": \"A light-hearted romantic comedy released for Pongal.\"},\n",
    "    {\"movie_id\": 4, \"title\": \"Madraskaaran\", \"genre\": \"Drama\", \n",
    "     \"description\": \"A drama film set in Chennai, with music by AR Rahman.\"},\n",
    "    {\"movie_id\": 5, \"title\": \"Sweetheart!\", \"genre\": \"Romantic Comedy\", \n",
    "     \"description\": \"A sweet romantic comedy starring Rio Raj and Gopika Ramesh.\"},\n",
    "    {\"movie_id\": 6, \"title\": \"Dragon\", \"genre\": \"Comedy Drama\", \n",
    "     \"description\": \"A coming-of-age comedy drama with Pradeep Ranganathan.\"}\n",
    "])\n",
    "\n",
    "movies\n"
   ]
  },
  {
   "cell_type": "code",
   "execution_count": 3,
   "id": "629eeee3-b114-420d-857d-48e7d32f2d7b",
   "metadata": {},
   "outputs": [],
   "source": [
    "movies[\"features\"] = movies[\"genre\"] + \" \" + movies[\"description\"]\n",
    "\n",
    "vectorizer = TfidfVectorizer(stop_words=\"english\")\n",
    "tfidf_matrix = vectorizer.fit_transform(movies[\"features\"])\n",
    "\n",
    "cosine_sim = cosine_similarity(tfidf_matrix, tfidf_matrix)\n"
   ]
  },
  {
   "cell_type": "code",
   "execution_count": 4,
   "id": "fa34d6a2-996b-4415-be7a-245cb38dd98c",
   "metadata": {},
   "outputs": [],
   "source": [
    "def recommend_movie(title, top_n=3, show_chart=True):\n",
    "    idx = movies[movies[\"title\"].str.lower() == title.lower()].index[0]\n",
    "    sim_scores = list(enumerate(cosine_sim[idx]))\n",
    "    sim_scores = sorted(sim_scores, key=lambda x: x[1], reverse=True)[1:top_n+1]\n",
    "    movie_indices = [i[0] for i in sim_scores]\n",
    "    result = movies.iloc[movie_indices][[\"title\", \"genre\", \"description\"]]\n",
    "\n",
    "    if show_chart:\n",
    "        # Prepare data for chart\n",
    "        labels = movies.iloc[movie_indices][\"title\"].values\n",
    "        scores = [s[1] for s in sim_scores]\n",
    "\n",
    "        plt.figure(figsize=(6,4))\n",
    "        plt.barh(labels, scores, color=\"skyblue\")\n",
    "        plt.xlabel(\"Similarity Score\")\n",
    "        plt.title(f\"Movies similar to {title}\")\n",
    "        plt.gca().invert_yaxis()\n",
    "        plt.show()\n",
    "\n",
    "    return result\n"
   ]
  },
  {
   "cell_type": "code",
   "execution_count": 5,
   "id": "fb1cb817-e04c-46eb-ba8f-07a79e040cb4",
   "metadata": {},
   "outputs": [
    {
     "data": {
      "image/png": "[encoded data removed]",
      "text/plain": [
       "<Figure size 600x400 with 1 Axes>"
      ]
     },
     "metadata": {},
     "output_type": "display_data"
    },
    {
     "data": {
      "text/html": [
       "<div>\n",
       "<style scoped>\n",
       "    .dataframe tbody tr th:only-of-type {\n",
       "        vertical-align: middle;\n",
       "    }\n",
       "\n",
       "    .dataframe tbody tr th {\n",
       "        vertical-align: top;\n",
       "    }\n",
       "\n",
       "    .dataframe thead th {\n",
       "        text-align: right;\n",
       "    }\n",
       "</style>\n",
       "<table border=\"1\" class=\"dataframe\">\n",
       "  <thead>\n",
       "    <tr style=\"text-align: right;\">\n",
       "      <th></th>\n",
       "      <th>title</th>\n",
       "      <th>genre</th>\n",
       "      <th>description</th>\n",
       "    </tr>\n",
       "  </thead>\n",
       "  <tbody>\n",
       "    <tr>\n",
       "      <th>1</th>\n",
       "      <td>Kudumbasthan</td>\n",
       "      <td>Comedy Drama</td>\n",
       "      <td>A family comedy drama filled with emotions and...</td>\n",
       "    </tr>\n",
       "    <tr>\n",
       "      <th>3</th>\n",
       "      <td>Madraskaaran</td>\n",
       "      <td>Drama</td>\n",
       "      <td>A drama film set in Chennai, with music by AR ...</td>\n",
       "    </tr>\n",
       "    <tr>\n",
       "      <th>2</th>\n",
       "      <td>Kadhalikka Neramillai</td>\n",
       "      <td>Romantic Comedy</td>\n",
       "      <td>A light-hearted romantic comedy released for P...</td>\n",
       "    </tr>\n",
       "  </tbody>\n",
       "</table>\n",
       "</div>"
      ],
      "text/plain": [
       "                   title            genre  \\\n",
       "1           Kudumbasthan     Comedy Drama   \n",
       "3           Madraskaaran            Drama   \n",
       "2  Kadhalikka Neramillai  Romantic Comedy   \n",
       "\n",
       "                                         description  \n",
       "1  A family comedy drama filled with emotions and...  \n",
       "3  A drama film set in Chennai, with music by AR ...  \n",
       "2  A light-hearted romantic comedy released for P...  "
      ]
     },
     "execution_count": 5,
     "metadata": {},
     "output_type": "execute_result"
    }
   ],
   "source": [
    "recommend_movie(\"Dragon\")\n"
   ]
  },
  {
   "cell_type": "code",
   "execution_count": 6,
   "id": "1cdc211e-80b4-4294-8f51-0375c22054f9",
   "metadata": {},
   "outputs": [
    {
     "data": {
      "image/png": "[encoded data removed]",
      "text/plain": [
       "<Figure size 600x400 with 1 Axes>"
      ]
     },
     "metadata": {},
     "output_type": "display_data"
    },
    {
     "data": {
      "text/html": [
       "<div>\n",
       "<style scoped>\n",
       "    .dataframe tbody tr th:only-of-type {\n",
       "        vertical-align: middle;\n",
       "    }\n",
       "\n",
       "    .dataframe tbody tr th {\n",
       "        vertical-align: top;\n",
       "    }\n",
       "\n",
       "    .dataframe thead th {\n",
       "        text-align: right;\n",
       "    }\n",
       "</style>\n",
       "<table border=\"1\" class=\"dataframe\">\n",
       "  <thead>\n",
       "    <tr style=\"text-align: right;\">\n",
       "      <th></th>\n",
       "      <th>title</th>\n",
       "      <th>genre</th>\n",
       "      <th>description</th>\n",
       "    </tr>\n",
       "  </thead>\n",
       "  <tbody>\n",
       "    <tr>\n",
       "      <th>4</th>\n",
       "      <td>Sweetheart!</td>\n",
       "      <td>Romantic Comedy</td>\n",
       "      <td>A sweet romantic comedy starring Rio Raj and G...</td>\n",
       "    </tr>\n",
       "    <tr>\n",
       "      <th>1</th>\n",
       "      <td>Kudumbasthan</td>\n",
       "      <td>Comedy Drama</td>\n",
       "      <td>A family comedy drama filled with emotions and...</td>\n",
       "    </tr>\n",
       "    <tr>\n",
       "      <th>5</th>\n",
       "      <td>Dragon</td>\n",
       "      <td>Comedy Drama</td>\n",
       "      <td>A coming-of-age comedy drama with Pradeep Rang...</td>\n",
       "    </tr>\n",
       "  </tbody>\n",
       "</table>\n",
       "</div>"
      ],
      "text/plain": [
       "          title            genre  \\\n",
       "4   Sweetheart!  Romantic Comedy   \n",
       "1  Kudumbasthan     Comedy Drama   \n",
       "5        Dragon     Comedy Drama   \n",
       "\n",
       "                                         description  \n",
       "4  A sweet romantic comedy starring Rio Raj and G...  \n",
       "1  A family comedy drama filled with emotions and...  \n",
       "5  A coming-of-age comedy drama with Pradeep Rang...  "
      ]
     },
     "execution_count": 6,
     "metadata": {},
     "output_type": "execute_result"
    }
   ],
   "source": [
    "recommend_movie(\"Kadhalikka Neramillai\")"
   ]
  },
  {
   "cell_type": "code",
   "execution_count": null,
   "id": "e51b828e-45d6-401f-9c75-6bc335d1329e",
   "metadata": {},
   "outputs": [],
   "source": []
  }
 ],
 "metadata": {
  "kernelspec": {
   "display_name": "Python 3 (ipykernel)",
   "language": "python",
   "name": "python3"
  },
  "language_info": {
   "codemirror_mode": {
    "name": "ipython",
    "version": 3
   },
   "file_extension": ".py",
   "mimetype": "text/x-python",
   "name": "python",
   "nbconvert_exporter": "python",
   "pygments_lexer": "ipython3",
   "version": "3.13.1"
  }
 },
 "nbformat": 4,
 "nbformat_minor": 5
}
